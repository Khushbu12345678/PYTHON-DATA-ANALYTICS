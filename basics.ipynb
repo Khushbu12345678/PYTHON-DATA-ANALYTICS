{
 "cells": [
  {
   "cell_type": "code",
   "execution_count": null,
   "metadata": {},
   "outputs": [
    {
     "data": {
      "text/plain": [
       "200"
      ]
     },
     "execution_count": 1,
     "metadata": {},
     "output_type": "execute_result"
    }
   ],
   "source": [
    "10*20"
   ]
  },
  {
   "cell_type": "code",
   "execution_count": null,
   "metadata": {},
   "outputs": [],
   "source": [
    "a=10\n",
    "b=20\n",
    "name=\"khushbu\"\n",
    "city=\"Lucknow\""
   ]
  },
  {
   "cell_type": "markdown",
   "metadata": {},
   "source": [
    "#operators\n",
    "- arithmetic\n",
    "- assignment\n",
    "- comparsion\n",
    "- logical\n",
    "- membership\n",
    "- identity"
   ]
  },
  {
   "cell_type": "code",
   "execution_count": null,
   "metadata": {},
   "outputs": [
    {
     "name": "stdout",
     "output_type": "stream",
     "text": [
      "13\n",
      "7\n",
      "30\n",
      "3.3333333333333335\n",
      "3\n",
      "1000\n"
     ]
    }
   ],
   "source": [
    "# + - / % // **\n",
    "x=10\n",
    "y=3\n",
    "print(x+y)\n",
    "print(x-y)\n",
    "print(x*y)\n",
    "print(x/y)\n",
    "print(x//y)\n",
    "print(x**y)"
   ]
  },
  {
   "cell_type": "code",
   "execution_count": null,
   "metadata": {},
   "outputs": [
    {
     "name": "stdout",
     "output_type": "stream",
     "text": [
      "50\n",
      "10\n",
      "20\n"
     ]
    }
   ],
   "source": [
    "# = += -= /= %= //= **=\n",
    "a=10\n",
    "b=a+10\n",
    "c=a+b\n",
    "c=a+b\n",
    "c+=30\n",
    "c-=10\n",
    "\n",
    "print(c)\n",
    "print(a)\n",
    "print(b)"
   ]
  },
  {
   "cell_type": "code",
   "execution_count": null,
   "metadata": {},
   "outputs": [
    {
     "name": "stdout",
     "output_type": "stream",
     "text": [
      "False\n",
      "True\n",
      "False\n",
      "True\n",
      "False\n"
     ]
    }
   ],
   "source": [
    "print(a>=b)\n",
    "print(a<b)\n",
    "print(a>=b)\n",
    "print(a!=b)\n",
    "print(a==b)\n"
   ]
  },
  {
   "cell_type": "code",
   "execution_count": null,
   "metadata": {},
   "outputs": [
    {
     "name": "stdout",
     "output_type": "stream",
     "text": [
      "False\n",
      "True\n",
      "False\n",
      "True\n",
      "True\n",
      "True\n"
     ]
    }
   ],
   "source": [
    "print(a>b and a>b)\n",
    "print(a>b or a<b)\n",
    "print(a>2 and a>b)\n",
    "print(a>2 or a<b)\n",
    "print(not a<2)\n",
    "print(not(a>b and a<b))\n",
    "\n"
   ]
  },
  {
   "cell_type": "code",
   "execution_count": null,
   "metadata": {},
   "outputs": [
    {
     "name": "stdout",
     "output_type": "stream",
     "text": [
      "False\n",
      "False\n",
      "True\n",
      "False\n",
      "True\n",
      "False\n"
     ]
    }
   ],
   "source": [
    "name=\"Alexise\"\n",
    "print(\"h\" in name)\n",
    "print(\"a\" in name)\n",
    "print(\"A\" in name)\n",
    "print(\"X\" in name)\n",
    "nums=[10,20,30,40,50]\n",
    "print(10 in nums)\n",
    "print(100 in nums)"
   ]
  },
  {
   "cell_type": "code",
   "execution_count": null,
   "metadata": {},
   "outputs": [
    {
     "name": "stdout",
     "output_type": "stream",
     "text": [
      "True\n"
     ]
    }
   ],
   "source": [
    "# is(identity operator)\n",
    "x=10\n",
    "y=10\n",
    "print(x is y)\n",
    "\n",
    "nums=[10,20,30]\n",
    "nums2=nums.copy()\n",
    "\n",
    "\n",
    "    \n"
   ]
  },
  {
   "cell_type": "code",
   "execution_count": 9,
   "metadata": {},
   "outputs": [
    {
     "name": "stdout",
     "output_type": "stream",
     "text": [
      "Hello I am Alex\n"
     ]
    }
   ],
   "source": [
    "print(\"Hello I am Alex\")\n",
    "\n"
   ]
  },
  {
   "cell_type": "code",
   "execution_count": 13,
   "metadata": {},
   "outputs": [
    {
     "name": "stdout",
     "output_type": "stream",
     "text": [
      "once upon a time\n",
      "There was a monkey\n",
      "Sitting on a tree\n",
      "To be continued\n"
     ]
    }
   ],
   "source": [
    "print(\"once upon a time\")\n",
    "print(\"There was a monkey\")\n",
    "print(\"Sitting on a tree\")\n",
    "print(\"To be continued\")\n"
   ]
  },
  {
   "cell_type": "code",
   "execution_count": 14,
   "metadata": {},
   "outputs": [
    {
     "name": "stdout",
     "output_type": "stream",
     "text": [
      "10 20 200\n",
      "10 * b'=' 200\n"
     ]
    }
   ],
   "source": [
    "a=10\n",
    "b=20\n",
    "c=a*b\n",
    "print(a,b,c)\n",
    "print(a,'*',b'=',c)\n"
   ]
  },
  {
   "cell_type": "code",
   "execution_count": 22,
   "metadata": {},
   "outputs": [
    {
     "name": "stdout",
     "output_type": "stream",
     "text": [
      "Simple interest calculator\n",
      "😀 10\n",
      "principle=150000\n",
      " rate =2.5\n",
      "time=10\n",
      "Simple interest=37500.0\n"
     ]
    }
   ],
   "source": [
    "p=150000\n",
    "r=2.5\n",
    "t=10\n",
    "Si=p*r*t/100\n",
    "#print(f\"prnciple={p},rate={r},time{t},simple interest={si}\"0)\n",
    "print(\"Simple interest calculator\")\n",
    "print(\"😀 10\")\n",
    "\n",
    "print(f'principle={p}')\n",
    "print(f' rate ={r}')\n",
    "print(f'time={t}')\n",
    "print(f'Simple interest={Si}')"
   ]
  },
  {
   "cell_type": "code",
   "execution_count": 32,
   "metadata": {},
   "outputs": [
    {
     "name": "stdout",
     "output_type": "stream",
     "text": [
      "Simple interest calculator\n",
      "__________\n",
      "__________\n",
      "principle        150000\n",
      "rate                  2.5\n",
      "time                 10\n",
      "__________\n",
      " Simple interest  37500.0\n",
      "__________\n"
     ]
    }
   ],
   "source": [
    "print(\"Simple interest calculator\")\n",
    "print(\"_\"*10)\n",
    "print(\"_\"*10)\n",
    "print(f'principle{p:14}')\n",
    "print(f'rate {r:20}')\n",
    "print(f'time{t:19}')\n",
    "print(\"_\"*10)\n",
    "print(f' Simple interest  {Si}')\n",
    "print(\"_\"*10)\n",
    "    \n",
    "\n",
    "      \n"
   ]
  },
  {
   "cell_type": "code",
   "execution_count": 33,
   "metadata": {},
   "outputs": [
    {
     "name": "stdout",
     "output_type": "stream",
     "text": [
      "blah blah blah\n",
      "You can like it but i don't care\n"
     ]
    }
   ],
   "source": [
    "fav_movie=input(\"plz enter your movie\")\n",
    "print(fav_movie)\n",
    "print(\"You can like it but i don't care\")"
   ]
  },
  {
   "cell_type": "code",
   "execution_count": 39,
   "metadata": {},
   "outputs": [
    {
     "name": "stdout",
     "output_type": "stream",
     "text": [
      "Result is\n",
      "12121212\n"
     ]
    }
   ],
   "source": [
    "a=input(\"enter a number\")\n",
    "b=input(\"enter another number\")\n",
    "print(\"Result is\")\n",
    "print(a+b)\n",
    "\n",
    "        \n"
   ]
  },
  {
   "cell_type": "code",
   "execution_count": 41,
   "metadata": {},
   "outputs": [
    {
     "name": "stdout",
     "output_type": "stream",
     "text": [
      "135120\n",
      "135120\n",
      "Result is\n",
      "12121212\n"
     ]
    }
   ],
   "source": [
    "print(input(\"enter a number\"))\n",
    "print(input(\"enter another  number\"))\n",
    "print(\"Result is\")\n",
    "print(a+b)"
   ]
  },
  {
   "cell_type": "code",
   "execution_count": 43,
   "metadata": {},
   "outputs": [
    {
     "data": {
      "text/plain": [
       "str"
      ]
     },
     "execution_count": 43,
     "metadata": {},
     "output_type": "execute_result"
    }
   ],
   "source": [
    "type(a)\n"
   ]
  },
  {
   "cell_type": "code",
   "execution_count": 35,
   "metadata": {},
   "outputs": [
    {
     "data": {
      "text/plain": [
       "str"
      ]
     },
     "execution_count": 35,
     "metadata": {},
     "output_type": "execute_result"
    }
   ],
   "source": [
    "type(name)"
   ]
  },
  {
   "cell_type": "code",
   "execution_count": null,
   "metadata": {},
   "outputs": [
    {
     "name": "stdout",
     "output_type": "stream",
     "text": [
      "Area of sphere is 314.0\n"
     ]
    }
   ],
   "source": [
    "pi=3.14\n",
    "r=5\n",
    "area=4*pi*r**2\n",
    "print(\"Area of sphere is\",area) "
   ]
  },
  {
   "cell_type": "markdown",
   "metadata": {},
   "source": [
    "conditon in python\n",
    "- block of code\n",
    "- if condition\n",
    "- if else condition \n",
    "- if elif ladder\n",
    "- nested if else\n",
    "- short hand if else\n",
    "- match case"
   ]
  },
  {
   "cell_type": "code",
   "execution_count": 44,
   "metadata": {},
   "outputs": [
    {
     "name": "stdout",
     "output_type": "stream",
     "text": [
      "bye\n"
     ]
    }
   ],
   "source": [
    "a=-10\n",
    "\n",
    "if a > 5:\n",
    "    print(\"a is greater than 5\")\n",
    "    print('hi')\n",
    "print('bye')"
   ]
  },
  {
   "cell_type": "code",
   "execution_count": 45,
   "metadata": {},
   "outputs": [
    {
     "name": "stdout",
     "output_type": "stream",
     "text": [
      "very good, you know how to type long words😊\n"
     ]
    }
   ],
   "source": [
    "word=input('enter a long word')\n",
    "if len(word) >10:\n",
    "    print(\"very good, you know how to type long words😊\")"
   ]
  },
  {
   "cell_type": "code",
   "execution_count": 1,
   "metadata": {},
   "outputs": [
    {
     "name": "stdout",
     "output_type": "stream",
     "text": [
      "yay 100\n"
     ]
    }
   ],
   "source": [
    "n = [12,21,32,43]\n",
    "if sum(n) >100:\n",
    "    print(\"yay 100\")\n",
    "else:\n",
    "    print(\"🤑 not 100\")\n",
    "     \n"
   ]
  },
  {
   "cell_type": "code",
   "execution_count": 3,
   "metadata": {},
   "outputs": [
    {
     "name": "stdout",
     "output_type": "stream",
     "text": [
      "Grade isA\n"
     ]
    }
   ],
   "source": [
    "# if elif ladder\n",
    "marks = 90\n",
    "if marks > 85:\n",
    "    grade = 'A'\n",
    "elif marks > 70:\n",
    "    grade = 'B'\n",
    "elif marks > 60:\n",
    "    grade ='C'\n",
    "elif marks > 50:\n",
    "    grade ='D'\n",
    "else:\n",
    "    grade ='F'\n",
    "print(f\"Grade is{grade}\")"
   ]
  },
  {
   "cell_type": "code",
   "execution_count": 10,
   "metadata": {},
   "outputs": [
    {
     "name": "stdout",
     "output_type": "stream",
     "text": [
      "C30is the largest\n"
     ]
    }
   ],
   "source": [
    "# find the largest number\n",
    "a, b, c =10,20,30\n",
    "if a > b and a > c:\n",
    "    print(f\"A{a}is the largest\")\n",
    "elif b > a and b > c:\n",
    "    print(f\"B{b}is the largest\")\n",
    "else: \n",
    "    print(f\"C{c}is the largest\")"
   ]
  },
  {
   "cell_type": "code",
   "execution_count": null,
   "metadata": {},
   "outputs": [],
   "source": []
  },
  {
   "cell_type": "code",
   "execution_count": null,
   "metadata": {},
   "outputs": [],
   "source": [
    "un = inout(\"enter a username\")\n",
    "pw = input(\"enter a password\")\n",
    "if un and pw :\n",
    "\n",
    "    if un ==('Welcome ,Admin')\n",
    "     if pw =='admin'\n",
    "        print(\"Welcome Password\")\n",
    "    else:\n",
    "       print(\"\")\n",
    "        "
   ]
  },
  {
   "cell_type": "code",
   "execution_count": 13,
   "metadata": {},
   "outputs": [
    {
     "name": "stdout",
     "output_type": "stream",
     "text": [
      "✅\n",
      "✅\n"
     ]
    }
   ],
   "source": [
    "# short hand if else\n",
    "a = 13\n",
    "print(\"✅\")if a >=10 else print(\"🤑\")\n",
    "print(\"✅\"if a >=10 else\"🤑\")"
   ]
  },
  {
   "cell_type": "code",
   "execution_count": 17,
   "metadata": {},
   "outputs": [
    {
     "name": "stdout",
     "output_type": "stream",
     "text": [
      "whta would  you like to eat\n",
      "Menu\n",
      "1. pizza 🍕\n",
      "2. Burger🍔\n",
      "3. pasta🍝\n",
      "4. sandwich🥪\n",
      "enter a number:\n"
     ]
    },
    {
     "ename": "ValueError",
     "evalue": "invalid literal for int() with base 10: 'pizza'",
     "output_type": "error",
     "traceback": [
      "\u001b[1;31m---------------------------------------------------------------------------\u001b[0m",
      "\u001b[1;31mValueError\u001b[0m                                Traceback (most recent call last)",
      "Cell \u001b[1;32mIn[17], line 9\u001b[0m\n\u001b[0;32m      7\u001b[0m \u001b[38;5;28mprint\u001b[39m(\u001b[38;5;124m\"\u001b[39m\u001b[38;5;124m4. sandwich🥪\u001b[39m\u001b[38;5;124m\"\u001b[39m)\n\u001b[0;32m      8\u001b[0m \u001b[38;5;28mprint\u001b[39m(\u001b[38;5;124m\"\u001b[39m\u001b[38;5;124menter a number:\u001b[39m\u001b[38;5;124m\"\u001b[39m)\n\u001b[1;32m----> 9\u001b[0m ch \u001b[38;5;241m=\u001b[39m \u001b[38;5;28mint\u001b[39m(\u001b[38;5;28minput\u001b[39m(\u001b[38;5;124m\"\u001b[39m\u001b[38;5;124m>>\u001b[39m\u001b[38;5;124m\"\u001b[39m))\n\u001b[0;32m     10\u001b[0m \u001b[38;5;28;01mif\u001b[39;00m ch \u001b[38;5;241m==\u001b[39m \u001b[38;5;241m1\u001b[39m:\n\u001b[0;32m     12\u001b[0m        \u001b[38;5;28mprint\u001b[39m(\u001b[38;5;124m\"\u001b[39m\u001b[38;5;124myou order is pizza 🍕\u001b[39m\u001b[38;5;130;01m\\n\u001b[39;00m\u001b[38;5;124m total amt =400\u001b[39m\u001b[38;5;124m\"\u001b[39m)\n",
      "\u001b[1;31mValueError\u001b[0m: invalid literal for int() with base 10: 'pizza'"
     ]
    }
   ],
   "source": [
    " # match case(not similar to switch case)\n",
    "print(\"whta would  you like to eat\")\n",
    "print(\"Menu\")\n",
    "print(\"1. pizza 🍕\") \n",
    "print(\"2. Burger🍔\")\n",
    "print(\"3. pasta🍝\")\n",
    "print(\"4. sandwich🥪\")\n",
    "print(\"enter a number:\")\n",
    "ch = int(input(\">>\"))\n",
    "if ch == 1:\n",
    "    \n",
    "        print(\"you order is pizza 🍕\\n total amt =400\")\n",
    "elif ch == 2:              \n",
    "        print(\"your order is burger \\n total amt =199\")\n",
    "elif ch == 3:              \n",
    "        print(\"your order is pasta \\ntotal amt=29\")\n",
    "elif ch == 4:              \n",
    "        print(\"your oder is sandwich \\ntotal amt=99\") \n",
    "else:\n",
    "     print(\"invalid choice\")\n",
    "        \n"
   ]
  },
  {
   "cell_type": "code",
   "execution_count": null,
   "metadata": {},
   "outputs": [],
   "source": []
  }
 ],
 "metadata": {
  "kernelspec": {
   "display_name": "Python 3",
   "language": "python",
   "name": "python3"
  },
  "language_info": {
   "codemirror_mode": {
    "name": "ipython",
    "version": 3
   },
   "file_extension": ".py",
   "mimetype": "text/x-python",
   "name": "python",
   "nbconvert_exporter": "python",
   "pygments_lexer": "ipython3",
   "version": "3.12.4"
  }
 },
 "nbformat": 4,
 "nbformat_minor": 2
}
